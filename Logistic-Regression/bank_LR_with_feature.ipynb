{
 "cells": [
  {
   "cell_type": "code",
   "execution_count": 1,
   "metadata": {},
   "outputs": [],
   "source": [
    "import pandas as pd\n",
    "import numpy as np\n",
    "import matplotlib.pyplot as plt\n",
    "import seaborn as sns\n",
    "%matplotlib inline\n",
    "from sklearn.linear_model import LogisticRegression\n",
    "from sklearn.model_selection import train_test_split\n",
    "from sklearn.metrics import classification_report, confusion_matrix\n",
    "\n",
    "dataset = pd.read_csv(\"dataset/BankCreditCard.csv\")\n"
   ]
  },
  {
   "cell_type": "code",
   "execution_count": 2,
   "metadata": {},
   "outputs": [],
   "source": [
    "from sklearn.ensemble import RandomForestClassifier\n",
    "from sklearn.feature_selection import SelectFromModel"
   ]
  },
  {
   "cell_type": "code",
   "execution_count": 3,
   "metadata": {},
   "outputs": [],
   "source": [
    "# X = dataset.drop(['Default_Payment', 'Customer ID'],axis=1)\n",
    "# y = dataset['Default_Payment']\n",
    "# X_train, X_test, y_train, y_test = train_test_split(X, y, test_size=0.30)"
   ]
  },
  {
   "cell_type": "code",
   "execution_count": 4,
   "metadata": {},
   "outputs": [],
   "source": [
    "x = dataset[['Credit_Amount', 'Age_Years', 'Repayment_Status_Jan',\n",
    "       'Repayment_Status_Feb', 'Jan_Bill_Amount', 'Feb_Bill_Amount',\n",
    "       'March_Bill_Amount', 'April_Bill_Amount', 'May_Bill_Amount',\n",
    "       'June_Bill_Amount', 'Previous_Payment_Jan', 'Previous_Payment_Feb',\n",
    "       'Previous_Payment_March', 'Previous_Payment_April',\n",
    "       'Previous_Payment_May', 'Previous_Payment_June']]\n",
    "y = dataset['Default_Payment']\n",
    "Xtrain, Xtest, ytrain, ytest = train_test_split(x, y ,test_size=0.30, random_state=101)"
   ]
  },
  {
   "cell_type": "code",
   "execution_count": 5,
   "metadata": {},
   "outputs": [
    {
     "name": "stderr",
     "output_type": "stream",
     "text": [
      "c:\\users\\admin\\appdata\\local\\programs\\python\\python37-32\\lib\\site-packages\\sklearn\\linear_model\\logistic.py:432: FutureWarning: Default solver will be changed to 'lbfgs' in 0.22. Specify a solver to silence this warning.\n",
      "  FutureWarning)\n"
     ]
    }
   ],
   "source": [
    "log = LogisticRegression()\n",
    "log.fit(Xtrain, ytrain)\n",
    "pred = log.predict(Xtest)"
   ]
  },
  {
   "cell_type": "code",
   "execution_count": 6,
   "metadata": {},
   "outputs": [
    {
     "name": "stdout",
     "output_type": "stream",
     "text": [
      "              precision    recall  f1-score   support\n",
      "\n",
      "           0       0.78      1.00      0.88      7058\n",
      "           1       0.50      0.00      0.00      1942\n",
      "\n",
      "    accuracy                           0.78      9000\n",
      "   macro avg       0.64      0.50      0.44      9000\n",
      "weighted avg       0.72      0.78      0.69      9000\n",
      "\n",
      "[[7057    1]\n",
      " [1941    1]]\n"
     ]
    }
   ],
   "source": [
    "print(classification_report(ytest, pred))\n",
    "print(confusion_matrix(ytest, pred))"
   ]
  },
  {
   "cell_type": "code",
   "execution_count": null,
   "metadata": {},
   "outputs": [],
   "source": []
  },
  {
   "cell_type": "code",
   "execution_count": null,
   "metadata": {},
   "outputs": [],
   "source": []
  }
 ],
 "metadata": {
  "kernelspec": {
   "display_name": "Python 3",
   "language": "python",
   "name": "python3"
  },
  "language_info": {
   "codemirror_mode": {
    "name": "ipython",
    "version": 3
   },
   "file_extension": ".py",
   "mimetype": "text/x-python",
   "name": "python",
   "nbconvert_exporter": "python",
   "pygments_lexer": "ipython3",
   "version": "3.7.3"
  }
 },
 "nbformat": 4,
 "nbformat_minor": 2
}
